{
 "cells": [
  {
   "cell_type": "code",
   "execution_count": 1,
   "id": "573399b8",
   "metadata": {},
   "outputs": [],
   "source": [
    "import scipy.stats as stats"
   ]
  },
  {
   "cell_type": "code",
   "execution_count": 2,
   "id": "b7b0748c",
   "metadata": {},
   "outputs": [],
   "source": [
    "group1 = [3.2, 5.1, 4.3, 6.7, 7.9, 4.8, 5.6, 6.2, 5.9]\n",
    "group2 = [2.9, 4.5, 6.1, 5.8, 4.2, 5.3, 4.7, 6.5, 6.8]"
   ]
  },
  {
   "cell_type": "code",
   "execution_count": 12,
   "id": "81cc30aa",
   "metadata": {},
   "outputs": [
    {
     "data": {
      "text/plain": [
       "MannwhitneyuResult(statistic=46.0, pvalue=0.6588432549492806)"
      ]
     },
     "execution_count": 12,
     "metadata": {},
     "output_type": "execute_result"
    }
   ],
   "source": [
    "stats.mannwhitneyu(group1, group2, alternative='two-sided')"
   ]
  },
  {
   "cell_type": "code",
   "execution_count": null,
   "id": "0c549efe",
   "metadata": {},
   "outputs": [],
   "source": []
  }
 ],
 "metadata": {
  "kernelspec": {
   "display_name": "Python 3 (ipykernel)",
   "language": "python",
   "name": "python3"
  },
  "language_info": {
   "codemirror_mode": {
    "name": "ipython",
    "version": 3
   },
   "file_extension": ".py",
   "mimetype": "text/x-python",
   "name": "python",
   "nbconvert_exporter": "python",
   "pygments_lexer": "ipython3",
   "version": "3.11.4"
  }
 },
 "nbformat": 4,
 "nbformat_minor": 5
}
