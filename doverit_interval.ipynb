{
 "cells": [
  {
   "cell_type": "code",
   "execution_count": 1,
   "id": "418c2b1c",
   "metadata": {},
   "outputs": [],
   "source": [
    "import statsmodels.stats.api as sns"
   ]
  },
  {
   "cell_type": "code",
   "execution_count": 2,
   "id": "2d15f36a",
   "metadata": {},
   "outputs": [],
   "source": [
    "sample = [150, 130, 140, 160, 180, 170, 190, 200, 175, 165]"
   ]
  },
  {
   "cell_type": "code",
   "execution_count": 3,
   "id": "633e5dab",
   "metadata": {},
   "outputs": [
    {
     "data": {
      "text/plain": [
       "(150.38182928831, 181.61817071169)"
      ]
     },
     "execution_count": 3,
     "metadata": {},
     "output_type": "execute_result"
    }
   ],
   "source": [
    "t = sns.DescrStatsW(sample)\n",
    "t.tconfint_mean(alpha=0.05, alternative='two-sided')"
   ]
  },
  {
   "cell_type": "code",
   "execution_count": null,
   "id": "30c34668",
   "metadata": {},
   "outputs": [],
   "source": []
  }
 ],
 "metadata": {
  "kernelspec": {
   "display_name": "Python 3 (ipykernel)",
   "language": "python",
   "name": "python3"
  },
  "language_info": {
   "codemirror_mode": {
    "name": "ipython",
    "version": 3
   },
   "file_extension": ".py",
   "mimetype": "text/x-python",
   "name": "python",
   "nbconvert_exporter": "python",
   "pygments_lexer": "ipython3",
   "version": "3.11.4"
  }
 },
 "nbformat": 4,
 "nbformat_minor": 5
}
